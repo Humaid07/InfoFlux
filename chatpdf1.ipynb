import streamlit as st
from PyPDF2 import PdfReader
from docx import Document
from pptx import Presentation
from transformers import pipeline
from langchain.text_splitter import RecursiveCharacterTextSplitter
from langchain_google_genai import GoogleGenerativeAIEmbeddings
import google.generativeai as genai
from langchain_community.vectorstores import FAISS
from langchain_google_genai import ChatGoogleGenerativeAI
from langchain.chains.question_answering import load_qa_chain
from langchain.prompts import PromptTemplate
from dotenv import load_dotenv
import os
import fitz  # PyMuPDF
from PIL import Image
from io import BytesIO
import easyocr  # OCR for extracting text from images
from bidi.algorithm import get_display


# Load environment variables
load_dotenv()
genai.configure(api_key=os.getenv("GOOGLE_API_KEY"))

# Verify the API key is loaded
print("Google API Key:", os.getenv("GOOGLE_API_KEY"))

# Initialize the OCR reader
reader = easyocr.Reader(['en'])

def extract_images_from_pdf(pdf_path, image_dir):
    pdf_document = fitz.open(pdf_path)
    image_list = []

    for page_num in range(len(pdf_document)):
        page = pdf_document.load_page(page_num)
        image_list.extend(page.get_images(full=True))

    image_paths = []
    for img_index, img in enumerate(image_list):
        xref = img[0]
        base_image = pdf_document.extract_image(xref)
        image_bytes = base_image["image"]
        image = Image.open(BytesIO(image_bytes))

        image_path = os.path.join(image_dir, f'image_{img_index + 1}.png')
        image.save(image_path)
        image_paths.append(image_path)

    pdf_document.close()
    return image_paths

def extract_text_from_images(image_paths):
    extracted_text = ""
    for image_path in image_paths:
        print(f"Extracting text from {image_path}...")
        result = reader.readtext(image_path)
        for detection in result:
            text = detection[1]
            extracted_text += text + "\n"
    return extracted_text

def extract_text_from_pdf(pdf_docs):
    text = ""
    for pdf in pdf_docs:
        pdf_reader = PdfReader(pdf)
        for page in pdf_reader.pages:
            text += page.extract_text()
    print('pdf text extraction completed')
    return text

def extract_text_from_docx(docx_docs):
    text = ""
    for doc in docx_docs:
        document = Document(doc)
        for para in document.paragraphs:
            text += para.text + "\n"
    print('word text extraction completed')
    return text

def extract_text_from_pptx(pptx_docs):
    text = ""
    for ppt in pptx_docs:
        presentation = Presentation(ppt)
        for slide in presentation.slides:
            for shape in slide.shapes:
                if hasattr(shape, "text"):
                    text += shape.text + "\n"
    return text

def get_text_chunks(text):
    text_splitter = RecursiveCharacterTextSplitter(chunk_size=5000, chunk_overlap=500)
    chunks = text_splitter.split_text(text)
    return chunks

def summarize_text(text, chunk_size=1000):
    print('summariztion started')
    summarizer = pipeline("summarization", model="facebook/bart-large-cnn")

    def chunk_text(text, chunk_size):
        """Yield successive n-sized chunks from text."""
        for i in range(0, len(text), chunk_size):
            yield text[i:i + chunk_size]

    summaries = []
    for chunk in chunk_text(text, chunk_size):
        input_length = len(chunk.split())
        max_length = min(150, input_length - 1)
        min_length = min(50, input_length - 1)
        if input_length <= 1:
            continue

        summary = summarizer(chunk, max_length=max_length, min_length=min_length, do_sample=False)
        summaries.append(summary[0]['summary_text'])
    return " ".join(summaries)

def get_vector_store(text_chunks):
    embeddings = GoogleGenerativeAIEmbeddings(model="models/embedding-001", api_key=os.getenv("GOOGLE_API_KEY"))
    vector_store = FAISS.from_texts(text_chunks, embedding=embeddings)
    vector_store.save_local("faiss_index")

def get_conversational_chain():
    prompt_template = """
    Answer the question as detailed as possible from the provided context, make sure to provide all the details, if the answer is not in
    provided context just say, "answer is not available in the context", don't provide the wrong answer\n\n
    Context:\n {context}\n
    Question: \n{question}\n

    Answer:
    """

    model = ChatGoogleGenerativeAI(model="gemini-pro", temperature=0.7, api_key=os.getenv("GOOGLE_API_KEY"))
    prompt = PromptTemplate(template=prompt_template, input_variables=["context", "question"])
    chain = load_qa_chain(model, chain_type="stuff", prompt=prompt)
    return chain

def user_input(user_question):
    try:
        embeddings = GoogleGenerativeAIEmbeddings(model="models/embedding-001", api_key=os.getenv("GOOGLE_API_KEY"))
        new_db = FAISS.load_local("faiss_index", embeddings, allow_dangerous_deserialization=True)
        docs = new_db.similarity_search(user_question)
        chain = get_conversational_chain()
        response = chain({"input_documents": docs, "question": user_question}, return_only_outputs=True)
        st.session_state.chat_history.append({"question": user_question, "response": response["output_text"]})
    except Exception as e:
        st.error(f"Error: {e}")

def display_chat_history():
    if "chat_history" in st.session_state:
        for chat in st.session_state.chat_history:
            st.write(f"**You:** {chat['question']}")
            st.write(f"**Gemini:** {chat['response']}")
            st.write("---")

def main():
    st.set_page_config(page_title="Chat with Documents", page_icon=":speech_balloon:")
    st.header("Chat with Your Documents Using Gemini💁")

    if "chat_history" not in st.session_state:
        st.session_state.chat_history = []

    user_question = st.text_input("Ask a Question from the Documents")

    if user_question:
        user_input(user_question)

    display_chat_history()

    with st.sidebar:
        st.title("Upload Documents:")
        pdf_docs = st.file_uploader("Upload PDF Files", type="pdf", accept_multiple_files=True)
        docx_docs = st.file_uploader("Upload Word Documents", type="docx", accept_multiple_files=True)
        pptx_docs = st.file_uploader("Upload PowerPoint Presentations", type="pptx", accept_multiple_files=True)
        image_dir = "extracted_images"
        os.makedirs(image_dir, exist_ok=True)

        print('extracting started')
        if st.button("Submit & Process"):
            with st.spinner("Processing..."):
                raw_text = ""
                if pdf_docs:
                    for pdf in pdf_docs:
                        raw_text += extract_text_from_pdf([pdf])
                        image_paths = extract_images_from_pdf(pdf, image_dir)
                        raw_text += extract_text_from_images(image_paths)
                if docx_docs:
                    raw_text += extract_text_from_docx(docx_docs)
                if pptx_docs:
                    raw_text += extract_text_from_pptx(pptx_docs)

                if raw_text:
                    text_chunks = get_text_chunks(raw_text)
                    summarized_chunks = [summarize_text(chunk) for chunk in text_chunks]
                    get_vector_store(summarized_chunks)
                    st.success("Processing Complete")
                else:
                    st.warning("No documents uploaded")

if __name__ == "__main__":
    main()
